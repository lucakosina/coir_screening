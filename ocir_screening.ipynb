{
 "cells": [
  {
   "cell_type": "code",
   "execution_count": 16,
   "metadata": {},
   "outputs": [],
   "source": [
    "# -*- coding: utf-8 -*-\n",
    "\n",
    "import matplotlib.pyplot as plt\n",
    "from googleapiclient.discovery import build\n",
    "from google.oauth2.service_account import Credentials"
   ]
  },
  {
   "cell_type": "code",
   "execution_count": 15,
   "metadata": {},
   "outputs": [
    {
     "name": "stdout",
     "output_type": "stream",
     "text": [
      "No data found.\n",
      "No data found.\n",
      "No data found.\n",
      "[45, 30, 54, 57]\n"
     ]
    }
   ],
   "source": [
    "\n",
    "\n",
    "# Set the path to your service account JSON file\n",
    "SERVICE_ACCOUNT_FILE = '/Users/lucyk/Library/Mobile Documents/com~apple~CloudDocs/Hiwi/compPsy/ema_study/oci-r-screening-6d147608d635.json'\n",
    "\n",
    "# Define the required scopes for Google Sheets\n",
    "SCOPES = ['https://www.googleapis.com/auth/spreadsheets.readonly']\n",
    "\n",
    "# Authenticate using the service account\n",
    "creds = Credentials.from_service_account_file(SERVICE_ACCOUNT_FILE, scopes=SCOPES)\n",
    "\n",
    "# Define the ID of the Google Sheet and the range of data to access\n",
    "SPREADSHEET_ID = '1duwuFHz9c5a1tVIMEBfNl2FfGSxvRAJEuEwzVSDn4-M'\n",
    "RANGE_NAME = 'Sheet1!H2:Y2'  # Adjust range as needed\n",
    "\n",
    "# Build the Sheets API client\n",
    "service = build('sheets', 'v4', credentials=creds)\n",
    "\n",
    "# Access the sheet data\n",
    "sheet = service.spreadsheets()\n",
    "result = sheet.values().get(spreadsheetId=SPREADSHEET_ID, range=RANGE_NAME).execute()\n",
    "values = result.get('values', [])\n",
    "\n",
    "\n",
    "# go through each row from the second row onward and calculate the sum of the values in the ocir screening for each row individually and save each sum in the postion of an array of its row\n",
    "ocir_result = 0\n",
    "ocir_result_array = []\n",
    "for i in range(3, 10):\n",
    "    RANGE_NAME = 'Sheet1!H' + str(i) + ':Y' + str(i)\n",
    "    result = sheet.values().get(spreadsheetId=SPREADSHEET_ID, range=RANGE_NAME).execute()\n",
    "    values = result.get('values', [])\n",
    "    if not values:\n",
    "        print('No data found.')\n",
    "    else:\n",
    "        for row in values:\n",
    "            for value in row:\n",
    "                #print(value)\n",
    "                ocir_result += int(value)\n",
    "        ocir_result_array.append(ocir_result)\n",
    "        ocir_result = 0\n",
    "\n",
    "\n",
    "print(ocir_result_array)\n",
    "\n"
   ]
  },
  {
   "cell_type": "code",
   "execution_count": null,
   "metadata": {},
   "outputs": [],
   "source": []
  }
 ],
 "metadata": {
  "kernelspec": {
   "display_name": "Python 3",
   "language": "python",
   "name": "python3"
  },
  "language_info": {
   "codemirror_mode": {
    "name": "ipython",
    "version": 3
   },
   "file_extension": ".py",
   "mimetype": "text/x-python",
   "name": "python",
   "nbconvert_exporter": "python",
   "pygments_lexer": "ipython3",
   "version": "3.12.3"
  }
 },
 "nbformat": 4,
 "nbformat_minor": 2
}
