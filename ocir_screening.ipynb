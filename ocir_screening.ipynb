{
 "cells": [
  {
   "cell_type": "code",
   "execution_count": 2,
   "metadata": {},
   "outputs": [],
   "source": [
    "# -*- coding: utf-8 -*-\n",
    "\n",
    "import matplotlib.pyplot as plt\n",
    "from googleapiclient.discovery import build\n",
    "from google.oauth2.service_account import Credentials"
   ]
  },
  {
   "cell_type": "code",
   "execution_count": 4,
   "metadata": {},
   "outputs": [
    {
     "name": "stdout",
     "output_type": "stream",
     "text": [
      "{'66a8e5cfc411f4b77b49dff3': 61, '6658b97a550b0dbb23385b16': 45, '6659b0c46a1675f2d40e2586': 30, '6658b30f356392e45b47ca35': 54, '6674a611c78207e9009eaadd': 57, '63ee0d0ff9577e91114acc53': 67, '60aa07ac10464c29f42088d9': 58, '59edca95ac0af70001b36f9c': 45, '5d55919845cfe20019b1c7d7': 27, '6666251b91a637999fba3144': 45, '5deaf8d461513d224cd809f9': 24, '671a590d73cd069bd72e7079': 45, '671c35abec458c9e4d98194a': 63}\n"
     ]
    }
   ],
   "source": [
    "\n",
    "\n",
    "# Set the path to your service account JSON file\n",
    "SERVICE_ACCOUNT_FILE = '/Users/lucyk/Library/Mobile Documents/com~apple~CloudDocs/Hiwi/compPsy/ema_study/oci-r-screening-6d147608d635.json'\n",
    "\n",
    "# Define the required scopes for Google Sheets\n",
    "SCOPES = ['https://www.googleapis.com/auth/spreadsheets.readonly']\n",
    "\n",
    "# Authenticate using the service account\n",
    "creds = Credentials.from_service_account_file(SERVICE_ACCOUNT_FILE, scopes=SCOPES)\n",
    "\n",
    "# Define the ID of the Google Sheet and the range of data to access\n",
    "SPREADSHEET_ID = '1duwuFHz9c5a1tVIMEBfNl2FfGSxvRAJEuEwzVSDn4-M'\n",
    "RANGE_NAME = 'Sheet1!H2:Y2'  # Adjust range as needed\n",
    "\n",
    "# Build the Sheets API client\n",
    "service = build('sheets', 'v4', credentials=creds)\n",
    "\n",
    "# Access the sheet data\n",
    "sheet = service.spreadsheets()\n",
    "result = sheet.values().get(spreadsheetId=SPREADSHEET_ID, range=RANGE_NAME).execute()\n",
    "values = result.get('values', [])\n",
    "\n",
    "\n",
    "RANGE_NAME = 'Sheet1!H2:Y100'  # Adjust range as needed for OCIR values\n",
    "PARTICIPANT_RANGE = 'Sheet1!C2:C100'  # Adjust range for participant names\n",
    "\n",
    "# Build the Sheets API client\n",
    "service = build('sheets', 'v4', credentials=creds)\n",
    "sheet = service.spreadsheets()\n",
    "\n",
    "# Access the sheet data\n",
    "values_result = sheet.values().get(spreadsheetId=SPREADSHEET_ID, range=RANGE_NAME).execute()\n",
    "rows = values_result.get('values', [])\n",
    "\n",
    "participants_result = sheet.values().get(spreadsheetId=SPREADSHEET_ID, range=PARTICIPANT_RANGE).execute()\n",
    "participant_names = participants_result.get('values', [])\n",
    "\n",
    "\n",
    "if len(rows) != len(participant_names):\n",
    "    raise ValueError(\"Mismatch between number of rows in OCIR data and participant names.\")\n",
    "\n",
    "# Function to calculate OCIR sum\n",
    "def get_ocir_sum():\n",
    "    ocir_sum = {}\n",
    "\n",
    "    for i, (row, participant) in enumerate(zip(rows, participant_names), start=2):  \n",
    "        try:\n",
    "            # Calculate the sum of OCIR scores \n",
    "            ocir_scores = [int(value) for value in row if value.isdigit()]\n",
    "            participant_sum = sum(ocir_scores)\n",
    "\n",
    "            # Use the participant's name (from column C) as the key\n",
    "            participant_id = participant[0]  # row[0] contains the participant's name from column C\n",
    "            ocir_sum[participant_id] = participant_sum\n",
    "\n",
    "        except Exception as e:\n",
    "            print(f\"Error processing row {i}: {e}\")\n",
    "            continue\n",
    "\n",
    "    return ocir_sum\n",
    "\n",
    "\n",
    "ocir_sum = get_ocir_sum()\n",
    "\n",
    "print(ocir_sum)\n",
    "\n",
    "\n"
   ]
  },
  {
   "cell_type": "code",
   "execution_count": null,
   "metadata": {},
   "outputs": [],
   "source": []
  }
 ],
 "metadata": {
  "kernelspec": {
   "display_name": "Python 3",
   "language": "python",
   "name": "python3"
  },
  "language_info": {
   "codemirror_mode": {
    "name": "ipython",
    "version": 3
   },
   "file_extension": ".py",
   "mimetype": "text/x-python",
   "name": "python",
   "nbconvert_exporter": "python",
   "pygments_lexer": "ipython3",
   "version": "3.12.3"
  }
 },
 "nbformat": 4,
 "nbformat_minor": 2
}
